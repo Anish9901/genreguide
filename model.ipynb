{
 "cells": [
  {
   "cell_type": "code",
   "execution_count": 2,
   "id": "1a5b3bfa",
   "metadata": {},
   "outputs": [],
   "source": [
    "from sklearn.svm import SVC\n",
    "from sklearn.model_selection import train_test_split\n",
    "from sklearn import preprocessing\n",
    "from sklearn.metrics import accuracy_score, confusion_matrix\n",
    "import pandas as pd\n",
    "import numpy as np\n",
    "import os\n",
    "import librosa"
   ]
  },
  {
   "cell_type": "code",
   "execution_count": 4,
   "id": "66435c96",
   "metadata": {},
   "outputs": [],
   "source": [
    "path = os.getcwd()\n",
    "data = pd.read_csv(f\"{path}/dataset/features_3_sec.csv\")"
   ]
  },
  {
   "cell_type": "code",
   "execution_count": 8,
   "id": "dd84e863",
   "metadata": {},
   "outputs": [
    {
     "data": {
      "text/html": [
       "<div>\n",
       "<style scoped>\n",
       "    .dataframe tbody tr th:only-of-type {\n",
       "        vertical-align: middle;\n",
       "    }\n",
       "\n",
       "    .dataframe tbody tr th {\n",
       "        vertical-align: top;\n",
       "    }\n",
       "\n",
       "    .dataframe thead th {\n",
       "        text-align: right;\n",
       "    }\n",
       "</style>\n",
       "<table border=\"1\" class=\"dataframe\">\n",
       "  <thead>\n",
       "    <tr style=\"text-align: right;\">\n",
       "      <th></th>\n",
       "      <th>length</th>\n",
       "      <th>chroma_stft_mean</th>\n",
       "      <th>chroma_stft_var</th>\n",
       "      <th>rms_mean</th>\n",
       "      <th>rms_var</th>\n",
       "      <th>spectral_centroid_mean</th>\n",
       "      <th>spectral_centroid_var</th>\n",
       "      <th>spectral_bandwidth_mean</th>\n",
       "      <th>spectral_bandwidth_var</th>\n",
       "      <th>rolloff_mean</th>\n",
       "      <th>...</th>\n",
       "      <th>mfcc16_var</th>\n",
       "      <th>mfcc17_mean</th>\n",
       "      <th>mfcc17_var</th>\n",
       "      <th>mfcc18_mean</th>\n",
       "      <th>mfcc18_var</th>\n",
       "      <th>mfcc19_mean</th>\n",
       "      <th>mfcc19_var</th>\n",
       "      <th>mfcc20_mean</th>\n",
       "      <th>mfcc20_var</th>\n",
       "      <th>label</th>\n",
       "    </tr>\n",
       "  </thead>\n",
       "  <tbody>\n",
       "    <tr>\n",
       "      <th>0</th>\n",
       "      <td>66149</td>\n",
       "      <td>0.335406</td>\n",
       "      <td>0.091048</td>\n",
       "      <td>0.130405</td>\n",
       "      <td>0.003521</td>\n",
       "      <td>1773.065032</td>\n",
       "      <td>167541.630869</td>\n",
       "      <td>1972.744388</td>\n",
       "      <td>117335.771563</td>\n",
       "      <td>3714.560359</td>\n",
       "      <td>...</td>\n",
       "      <td>39.687145</td>\n",
       "      <td>-3.241280</td>\n",
       "      <td>36.488243</td>\n",
       "      <td>0.722209</td>\n",
       "      <td>38.099152</td>\n",
       "      <td>-5.050335</td>\n",
       "      <td>33.618073</td>\n",
       "      <td>-0.243027</td>\n",
       "      <td>43.771767</td>\n",
       "      <td>blues</td>\n",
       "    </tr>\n",
       "    <tr>\n",
       "      <th>1</th>\n",
       "      <td>66149</td>\n",
       "      <td>0.343065</td>\n",
       "      <td>0.086147</td>\n",
       "      <td>0.112699</td>\n",
       "      <td>0.001450</td>\n",
       "      <td>1816.693777</td>\n",
       "      <td>90525.690866</td>\n",
       "      <td>2010.051501</td>\n",
       "      <td>65671.875673</td>\n",
       "      <td>3869.682242</td>\n",
       "      <td>...</td>\n",
       "      <td>64.748276</td>\n",
       "      <td>-6.055294</td>\n",
       "      <td>40.677654</td>\n",
       "      <td>0.159015</td>\n",
       "      <td>51.264091</td>\n",
       "      <td>-2.837699</td>\n",
       "      <td>97.030830</td>\n",
       "      <td>5.784063</td>\n",
       "      <td>59.943081</td>\n",
       "      <td>blues</td>\n",
       "    </tr>\n",
       "    <tr>\n",
       "      <th>2</th>\n",
       "      <td>66149</td>\n",
       "      <td>0.346815</td>\n",
       "      <td>0.092243</td>\n",
       "      <td>0.132003</td>\n",
       "      <td>0.004620</td>\n",
       "      <td>1788.539719</td>\n",
       "      <td>111407.437613</td>\n",
       "      <td>2084.565132</td>\n",
       "      <td>75124.921716</td>\n",
       "      <td>3997.639160</td>\n",
       "      <td>...</td>\n",
       "      <td>67.336563</td>\n",
       "      <td>-1.768610</td>\n",
       "      <td>28.348579</td>\n",
       "      <td>2.378768</td>\n",
       "      <td>45.717648</td>\n",
       "      <td>-1.938424</td>\n",
       "      <td>53.050835</td>\n",
       "      <td>2.517375</td>\n",
       "      <td>33.105122</td>\n",
       "      <td>blues</td>\n",
       "    </tr>\n",
       "    <tr>\n",
       "      <th>3</th>\n",
       "      <td>66149</td>\n",
       "      <td>0.363639</td>\n",
       "      <td>0.086856</td>\n",
       "      <td>0.132565</td>\n",
       "      <td>0.002448</td>\n",
       "      <td>1655.289045</td>\n",
       "      <td>111952.284517</td>\n",
       "      <td>1960.039988</td>\n",
       "      <td>82913.639269</td>\n",
       "      <td>3568.300218</td>\n",
       "      <td>...</td>\n",
       "      <td>47.739452</td>\n",
       "      <td>-3.841155</td>\n",
       "      <td>28.337118</td>\n",
       "      <td>1.218588</td>\n",
       "      <td>34.770935</td>\n",
       "      <td>-3.580352</td>\n",
       "      <td>50.836224</td>\n",
       "      <td>3.630866</td>\n",
       "      <td>32.023678</td>\n",
       "      <td>blues</td>\n",
       "    </tr>\n",
       "    <tr>\n",
       "      <th>4</th>\n",
       "      <td>66149</td>\n",
       "      <td>0.335579</td>\n",
       "      <td>0.088129</td>\n",
       "      <td>0.143289</td>\n",
       "      <td>0.001701</td>\n",
       "      <td>1630.656199</td>\n",
       "      <td>79667.267654</td>\n",
       "      <td>1948.503884</td>\n",
       "      <td>60204.020268</td>\n",
       "      <td>3469.992864</td>\n",
       "      <td>...</td>\n",
       "      <td>30.336359</td>\n",
       "      <td>0.664582</td>\n",
       "      <td>45.880913</td>\n",
       "      <td>1.689446</td>\n",
       "      <td>51.363583</td>\n",
       "      <td>-3.392489</td>\n",
       "      <td>26.738789</td>\n",
       "      <td>0.536961</td>\n",
       "      <td>29.146694</td>\n",
       "      <td>blues</td>\n",
       "    </tr>\n",
       "  </tbody>\n",
       "</table>\n",
       "<p>5 rows × 59 columns</p>\n",
       "</div>"
      ],
      "text/plain": [
       "   length  chroma_stft_mean  chroma_stft_var  rms_mean   rms_var   \n",
       "0   66149          0.335406         0.091048  0.130405  0.003521  \\\n",
       "1   66149          0.343065         0.086147  0.112699  0.001450   \n",
       "2   66149          0.346815         0.092243  0.132003  0.004620   \n",
       "3   66149          0.363639         0.086856  0.132565  0.002448   \n",
       "4   66149          0.335579         0.088129  0.143289  0.001701   \n",
       "\n",
       "   spectral_centroid_mean  spectral_centroid_var  spectral_bandwidth_mean   \n",
       "0             1773.065032          167541.630869              1972.744388  \\\n",
       "1             1816.693777           90525.690866              2010.051501   \n",
       "2             1788.539719          111407.437613              2084.565132   \n",
       "3             1655.289045          111952.284517              1960.039988   \n",
       "4             1630.656199           79667.267654              1948.503884   \n",
       "\n",
       "   spectral_bandwidth_var  rolloff_mean  ...  mfcc16_var  mfcc17_mean   \n",
       "0           117335.771563   3714.560359  ...   39.687145    -3.241280  \\\n",
       "1            65671.875673   3869.682242  ...   64.748276    -6.055294   \n",
       "2            75124.921716   3997.639160  ...   67.336563    -1.768610   \n",
       "3            82913.639269   3568.300218  ...   47.739452    -3.841155   \n",
       "4            60204.020268   3469.992864  ...   30.336359     0.664582   \n",
       "\n",
       "   mfcc17_var  mfcc18_mean  mfcc18_var  mfcc19_mean  mfcc19_var  mfcc20_mean   \n",
       "0   36.488243     0.722209   38.099152    -5.050335   33.618073    -0.243027  \\\n",
       "1   40.677654     0.159015   51.264091    -2.837699   97.030830     5.784063   \n",
       "2   28.348579     2.378768   45.717648    -1.938424   53.050835     2.517375   \n",
       "3   28.337118     1.218588   34.770935    -3.580352   50.836224     3.630866   \n",
       "4   45.880913     1.689446   51.363583    -3.392489   26.738789     0.536961   \n",
       "\n",
       "   mfcc20_var  label  \n",
       "0   43.771767  blues  \n",
       "1   59.943081  blues  \n",
       "2   33.105122  blues  \n",
       "3   32.023678  blues  \n",
       "4   29.146694  blues  \n",
       "\n",
       "[5 rows x 59 columns]"
      ]
     },
     "execution_count": 8,
     "metadata": {},
     "output_type": "execute_result"
    }
   ],
   "source": [
    "data = data.iloc[0:, 1:]\n",
    "data.head()"
   ]
  },
  {
   "cell_type": "code",
   "execution_count": 9,
   "id": "a5644157",
   "metadata": {},
   "outputs": [],
   "source": [
    "y = data['label']\n",
    "X = data.loc[:, data.columns != 'label']\n",
    "cols = X.columns\n",
    "min_max_scaler = preprocessing.MinMaxScaler()\n",
    "scaled_data = min_max_scaler.fit_transform(X)\n",
    "X = pd.DataFrame(scaled_data, columns = cols)"
   ]
  },
  {
   "cell_type": "code",
   "execution_count": 10,
   "id": "49c2805c",
   "metadata": {},
   "outputs": [],
   "source": [
    "X_train, X_test, y_train, y_test = train_test_split(X, y, test_size=0.3, random_state=42)"
   ]
  },
  {
   "cell_type": "code",
   "execution_count": 11,
   "id": "307aab60",
   "metadata": {},
   "outputs": [],
   "source": [
    "svm = SVC(decision_function_shape=\"ovo\")\n",
    "svm.fit(X_train, y_train)\n",
    "preds = svm.predict(X_test)"
   ]
  },
  {
   "cell_type": "code",
   "execution_count": 12,
   "id": "99f65bb9",
   "metadata": {},
   "outputs": [
    {
     "name": "stdout",
     "output_type": "stream",
     "text": [
      "<class 'pandas.core.frame.DataFrame'>\n"
     ]
    },
    {
     "data": {
      "text/plain": [
       "'reggae'"
      ]
     },
     "execution_count": 12,
     "metadata": {},
     "output_type": "execute_result"
    }
   ],
   "source": [
    "print(type(X_test))\n",
    "svm.predict(X_test.iloc[[100]])[0]"
   ]
  },
  {
   "cell_type": "code",
   "execution_count": 13,
   "id": "c5e0f023",
   "metadata": {},
   "outputs": [
    {
     "data": {
      "text/plain": [
       "0.7540874207540874"
      ]
     },
     "execution_count": 13,
     "metadata": {},
     "output_type": "execute_result"
    }
   ],
   "source": [
    "accuracy_score(y_test, preds)"
   ]
  },
  {
   "cell_type": "code",
   "execution_count": 14,
   "id": "821f6037",
   "metadata": {},
   "outputs": [],
   "source": [
    "data2 = pd.read_csv(f\"{path}/dataset/features_30_sec.csv\")\n",
    "data2 = data.iloc[0:, 1:]\n",
    "#data2.head()\n",
    "y2 = data2['label']\n",
    "X2 = data2.loc[:, data2.columns != 'label']\n",
    "cols = X2.columns\n",
    "min_max_scaler = preprocessing.MinMaxScaler()\n",
    "scaled_data = min_max_scaler.fit_transform(X2)\n",
    "X2 = pd.DataFrame(scaled_data, columns = cols)"
   ]
  },
  {
   "cell_type": "code",
   "execution_count": 15,
   "id": "78f246ef",
   "metadata": {},
   "outputs": [],
   "source": [
    "X2_train, X2_test, y2_train, y2_test = train_test_split(X2, y2, test_size=0.3, random_state=42)"
   ]
  },
  {
   "cell_type": "code",
   "execution_count": 16,
   "id": "1a7fd708",
   "metadata": {},
   "outputs": [],
   "source": [
    "svm2 = SVC(decision_function_shape=\"ovo\")\n",
    "svm2.fit(X2_train, y2_train)\n",
    "preds2 = svm2.predict(X2_test)"
   ]
  },
  {
   "cell_type": "code",
   "execution_count": 17,
   "id": "f89d8d1c",
   "metadata": {},
   "outputs": [
    {
     "data": {
      "text/plain": [
       "0.7547547547547547"
      ]
     },
     "execution_count": 17,
     "metadata": {},
     "output_type": "execute_result"
    }
   ],
   "source": [
    "accuracy_score(y2_test, preds2)"
   ]
  },
  {
   "cell_type": "code",
   "execution_count": 18,
   "id": "fdd6584a",
   "metadata": {},
   "outputs": [
    {
     "name": "stdout",
     "output_type": "stream",
     "text": [
      "/home/anish/oss/project/dataset/genres_original/hiphop/hiphop.00000.wav\n"
     ]
    }
   ],
   "source": [
    "print(audio_file)"
   ]
  },
  {
   "cell_type": "code",
   "execution_count": 30,
   "id": "3dc01226",
   "metadata": {},
   "outputs": [
    {
     "name": "stdout",
     "output_type": "stream",
     "text": [
      "[-80.93423    84.780525  -31.534628   33.90174   -19.836761   23.553936\n",
      " -22.136858   20.0265    -16.76481    19.219479  -13.098828   11.502167\n",
      " -10.718428   10.579796   -8.420744    7.319573   -5.372349    7.692515\n",
      "  -5.549921    1.5127791]\n",
      "[4878.1924    750.62506   548.8253    407.25797   158.76445   135.67868\n",
      "   93.60942    96.799095   93.493195   55.834465   75.08731    52.45921\n",
      "   74.168274   72.087845   64.90663    55.411167   69.45791    62.213734\n",
      "   63.38999    41.120728]\n",
      "[-8.0934227e+01  8.4780525e+01 -3.1534628e+01  3.3901741e+01\n",
      " -1.9836761e+01  2.3553936e+01 -2.2136858e+01  2.0026501e+01\n",
      " -1.6764811e+01  1.9219479e+01 -1.3098828e+01  1.1502167e+01\n",
      " -1.0718428e+01  1.0579796e+01 -8.4207439e+00  7.3195729e+00\n",
      " -5.3723488e+00  7.6925149e+00 -5.5499210e+00  1.5127791e+00\n",
      "  4.8781924e+03  7.5062506e+02  5.4882532e+02  4.0725797e+02\n",
      "  1.5876445e+02  1.3567868e+02  9.3609421e+01  9.6799095e+01\n",
      "  9.3493195e+01  5.5834465e+01  7.5087311e+01  5.2459209e+01\n",
      "  7.4168274e+01  7.2087845e+01  6.4906631e+01  5.5411167e+01\n",
      "  6.9457909e+01  6.2213734e+01  6.3389992e+01  4.1120728e+01]\n"
     ]
    }
   ],
   "source": [
    "audio_file = f\"{path}/dataset/genres_original/hiphop/hiphop.00000.wav\"\n",
    "y, sr = librosa.load(audio_file, mono=True)\n",
    "\n",
    "# Preprocess audio file\n",
    "y = librosa.util.normalize(y)   # Normalize audio to have values between -1 and 1\n",
    "y = librosa.effects.trim(y)[0]  # Trim silence from beginning and end of audio\n",
    "\n",
    "# Define MFCC parameters\n",
    "n_mfcc = 20    # Number of MFCC coefficients to calculate\n",
    "hop_length = 512   # Hop length between consecutive frames in samples (around 23ms)\n",
    "n_fft = 2048   # Size of FFT window in samples (around 93ms)\n",
    "\n",
    "# Extract MFCC features\n",
    "mfccs = librosa.feature.mfcc(y=y, sr=sr, n_mfcc=n_mfcc, hop_length=hop_length, n_fft=n_fft)\n",
    "\n",
    "# Aggregate MFCC features into a single feature vector\n",
    "mfcc_mean = np.mean(mfccs, axis=1)\n",
    "mfcc_var = np.var(mfccs, axis=1)\n",
    "mfcc_features = np.concatenate((mfcc_mean, mfcc_var))\n",
    "print(mfcc_mean)\n",
    "print(mfcc_var)\n",
    "print(mfcc_features)\n",
    "# Normalize feature vector\n",
    "mfcc_features = (mfcc_features - np.mean(mfcc_features)) / np.std(mfcc_features)\n",
    "\n",
    "# Print feature vector\n",
    "#print(mfcc_features)"
   ]
  },
  {
   "cell_type": "code",
   "execution_count": 33,
   "id": "19754d33",
   "metadata": {},
   "outputs": [
    {
     "data": {
      "text/plain": [
       "pandas.core.indexes.base.Index"
      ]
     },
     "execution_count": 33,
     "metadata": {},
     "output_type": "execute_result"
    }
   ],
   "source": [
    "type(cols)"
   ]
  },
  {
   "cell_type": "code",
   "execution_count": 31,
   "id": "5912c736",
   "metadata": {},
   "outputs": [],
   "source": [
    "# Extract features\n",
    "chroma_stft = librosa.feature.chroma_stft(y=y, sr=sr)\n",
    "chroma_stft_mean = np.mean(chroma_stft)\n",
    "chroma_stft_var = np.var(chroma_stft)\n",
    "\n",
    "rms = librosa.feature.rms(y=y)\n",
    "rms_mean = np.mean(rms)\n",
    "rms_var = np.var(rms)\n",
    "\n",
    "spectral_centroid = librosa.feature.spectral_centroid(y=y, sr=sr)\n",
    "spectral_centroid_mean = np.mean(spectral_centroid)\n",
    "spectral_centroid_var = np.var(spectral_centroid)\n",
    "\n",
    "spectral_bandwidth = librosa.feature.spectral_bandwidth(y=y, sr=sr)\n",
    "spectral_bandwidth_mean = np.mean(spectral_bandwidth)\n",
    "spectral_bandwidth_var = np.var(spectral_bandwidth)\n",
    "\n",
    "rolloff = librosa.feature.spectral_rolloff(y=y, sr=sr)\n",
    "rolloff_mean = np.mean(rolloff)\n",
    "rolloff_var = np.var(rolloff)\n",
    "\n",
    "zero_crossing_rate = librosa.feature.zero_crossing_rate(y)\n",
    "zero_crossing_rate_mean = np.mean(zero_crossing_rate)\n",
    "zero_crossing_rate_var = np.var(zero_crossing_rate)\n",
    "\n",
    "harmony = librosa.effects.harmonic(y)\n",
    "harmony_mean = np.mean(harmony)\n",
    "harmony_var = np.var(harmony)\n",
    "\n",
    "perceptr = librosa.effects.percussive(y)\n",
    "perceptr_mean = np.mean(perceptr)\n",
    "perceptr_var = np.var(perceptr)\n",
    "\n",
    "tempo, _ = librosa.beat.beat_track(y=y, sr=sr)"
   ]
  },
  {
   "cell_type": "code",
   "execution_count": 61,
   "id": "8bc40bd5",
   "metadata": {},
   "outputs": [
    {
     "name": "stdout",
     "output_type": "stream",
     "text": [
      "[ 6.61490000e+04  4.60793495e-01  8.51927325e-02  1.25204384e-01\n",
      "  2.46811355e-03  2.66800044e+03  4.18577875e+05  2.35125205e+03\n",
      "  1.07832073e+05  5.47547055e+03  1.56425664e+06  1.47308751e-01\n",
      "  2.89120224e-03 -1.52640697e-02  4.69357288e-03 -2.45303637e-03\n",
      "  8.69236235e-03  1.17453835e+02]\n"
     ]
    }
   ],
   "source": [
    "a = np.array([66149, chroma_stft_mean, chroma_stft_var, rms_mean, rms_var,\n",
    "       spectral_centroid_mean, spectral_centroid_var,\n",
    "       spectral_bandwidth_mean, spectral_bandwidth_var, rolloff_mean,\n",
    "       rolloff_var, zero_crossing_rate_mean, zero_crossing_rate_var,\n",
    "       harmony_mean, harmony_var, perceptr_mean, perceptr_var, tempo])\n",
    "\n",
    "#c = np.concatenate(a,b)\n",
    "print(a)"
   ]
  },
  {
   "cell_type": "code",
   "execution_count": 62,
   "id": "03ff22b6",
   "metadata": {},
   "outputs": [
    {
     "name": "stdout",
     "output_type": "stream",
     "text": [
      "[-8.0934227e+01  4.8781924e+03  8.4780525e+01  7.5062506e+02\n",
      " -3.1534628e+01  5.4882532e+02  3.3901741e+01  4.0725797e+02\n",
      " -1.9836761e+01  1.5876445e+02  2.3553936e+01  1.3567868e+02\n",
      " -2.2136858e+01  9.3609421e+01  2.0026501e+01  9.6799095e+01\n",
      " -1.6764811e+01  9.3493195e+01  1.9219479e+01  5.5834465e+01\n",
      " -1.3098828e+01  7.5087311e+01  1.1502167e+01  5.2459209e+01\n",
      " -1.0718428e+01  7.4168274e+01  1.0579796e+01  7.2087845e+01\n",
      " -8.4207439e+00  6.4906631e+01  7.3195729e+00  5.5411167e+01\n",
      " -5.3723488e+00  6.9457909e+01  7.6925149e+00  6.2213734e+01\n",
      " -5.5499210e+00  6.3389992e+01  1.5127791e+00  4.1120728e+01]\n",
      "<class 'numpy.ndarray'>\n"
     ]
    }
   ],
   "source": [
    "mfcc_features = []\n",
    "for i in range(n_mfcc):\n",
    "    mfcc_features.append(mfcc_mean[i])\n",
    "    mfcc_features.append(mfcc_var[i])\n",
    "mfcc_features = np.array(mfcc_features)\n",
    "print(mfcc_features)\n",
    "print(type(mfcc_features))"
   ]
  },
  {
   "cell_type": "code",
   "execution_count": 67,
   "id": "bf285556",
   "metadata": {},
   "outputs": [
    {
     "name": "stdout",
     "output_type": "stream",
     "text": [
      "['classical']\n"
     ]
    }
   ],
   "source": [
    "feat = np.append(a, mfcc_features)\n",
    "#print(len(feat))\n",
    "min_max_scaler = preprocessing.MinMaxScaler()\n",
    "scaled_data = min_max_scaler.fit_transform([feat])\n",
    "ff = pd.DataFrame([feat], columns = X.columns)\n",
    "print(svm.predict(ff))"
   ]
  },
  {
   "cell_type": "code",
   "execution_count": null,
   "id": "6f649c34",
   "metadata": {},
   "outputs": [],
   "source": [
    "def extract_features(audio_file):\n",
    "    y, sr = librosa.load(audio_file, mono=True)\n",
    "    # Preprocess audio file\n",
    "    y = librosa.util.normalize(y)   # Normalize audio to have values between -1 and 1\n",
    "    y = librosa.effects.trim(y)[0]  # Trim silence from beginning and end of audio\n",
    "    "
   ]
  }
 ],
 "metadata": {
  "kernelspec": {
   "display_name": "Python 3 (ipykernel)",
   "language": "python",
   "name": "python3"
  },
  "language_info": {
   "codemirror_mode": {
    "name": "ipython",
    "version": 3
   },
   "file_extension": ".py",
   "mimetype": "text/x-python",
   "name": "python",
   "nbconvert_exporter": "python",
   "pygments_lexer": "ipython3",
   "version": "3.9.16"
  }
 },
 "nbformat": 4,
 "nbformat_minor": 5
}
